{
 "cells": [
  {
   "cell_type": "code",
   "execution_count": 1,
   "metadata": {},
   "outputs": [],
   "source": [
    "#import library\n",
    "\n",
    "import pandas as pd\n",
    "import numpy as np"
   ]
  },
  {
   "cell_type": "code",
   "execution_count": 2,
   "metadata": {},
   "outputs": [
    {
     "name": "stderr",
     "output_type": "stream",
     "text": [
      "C:\\Users\\felic\\AppData\\Local\\Temp\\ipykernel_15140\\1845218630.py:6: DtypeWarning: Columns (10,14,17) have mixed types. Specify dtype option on import or set low_memory=False.\n",
      "  df = pd.read_csv(file_path, encoding='latin1')  # or encoding='ISO-8859-1'\n"
     ]
    },
    {
     "name": "stdout",
     "output_type": "stream",
     "text": [
      "  Order ID Net Sales Date    Customer id     Customer Name  Price list   \n",
      "0  Order 1     12/04/2022  CUST-22040173    MxCHxXXU xUAxN  Package 36  \\\n",
      "1  Order 2     31/08/2023  CUST-23081581        QxH HxNGGx  Package 36   \n",
      "2  Order 3     30/03/2024  CUST-24031288   xNAxN XXAxPxAQx  Package 36   \n",
      "3  Order 4     12/04/2022  CUST-22040230    FxAQxH MxxUxNx  Package 60   \n",
      "4  Order 5      6/10/2022  CUST-22100014  xYxUUY xYxHFxAQx  Package 60   \n",
      "\n",
      "  Purchase Type Installment Payment Method Promotion Code Invoice Type   \n",
      "0       Partial                Credit Card   Hore Promo 1    Recurring  \\\n",
      "1       Partial                Credit Card   Hore Promo 2    Recurring   \n",
      "2       Partial           Direct Debit BCA   Hore Promo 3    Recurring   \n",
      "3       Partial                Credit Card   Hore Promo 4    Recurring   \n",
      "4       Partial           Direct Debit BCA   Hore Promo 3    Recurring   \n",
      "\n",
      "   Instalment Number  ... Invoice Date    Due Date Payment Date  Payment   \n",
      "0                  9  ...    1/02/2023  28/02/2023    2/02/2023        0  \\\n",
      "1                  8  ...    1/05/2024  31/05/2024   25/05/2024        0   \n",
      "2                  1  ...    1/05/2024  31/05/2024   30/05/2024        0   \n",
      "3                  9  ...    1/02/2023  28/02/2023    2/02/2023        0   \n",
      "4                 19  ...    1/06/2024  30/06/2024   25/06/2024  580,000   \n",
      "\n",
      "  Invoice Amount Total Payment Outstanding             Risk Invoice Status   \n",
      "0        430,000       860,000    -430,000  Risk Category 1           Paid  \\\n",
      "1        380,000       760,000    -380,000   No Information           Paid   \n",
      "2        300,000       600,000    -300,000  Risk Category 2           Paid   \n",
      "3        290,000       580,000    -290,000  Risk Category 1           Paid   \n",
      "4        290,000       580,000    -290,000  Risk Category 3           Paid   \n",
      "\n",
      "  Overdue Months  \n",
      "0              0  \n",
      "1              0  \n",
      "2              0  \n",
      "3              0  \n",
      "4              0  \n",
      "\n",
      "[5 rows x 21 columns]\n"
     ]
    }
   ],
   "source": [
    "# Correct file path\n",
    "file_path = r\"C:\\data felicia\\Kuliah smtr 8\\coway\\data source\\Invoice.csv\"\n",
    "\n",
    "# Attempt to read the CSV file with encoding\n",
    "try:\n",
    "    df = pd.read_csv(file_path, encoding='latin1')  # or encoding='ISO-8859-1'\n",
    "    print(df.head())\n",
    "except FileNotFoundError:\n",
    "    print(\"Error: The file was not found. Please check the path and file name.\")\n",
    "except pd.errors.ParserError:\n",
    "    print(\"Error: There was an issue with parsing the CSV file. Please check the file's content.\")\n",
    "except Exception as e:\n",
    "    print(f\"An error occurred: {e}\")"
   ]
  },
  {
   "cell_type": "code",
   "execution_count": 3,
   "metadata": {},
   "outputs": [
    {
     "name": "stdout",
     "output_type": "stream",
     "text": [
      "            Order ID Net Sales Date     Customer id   \n",
      "0            Order 1     12/04/2022   CUST-22040173  \\\n",
      "1            Order 2     31/08/2023   CUST-23081581   \n",
      "2            Order 3     30/03/2024   CUST-24031288   \n",
      "3            Order 4     12/04/2022   CUST-22040230   \n",
      "4            Order 5      6/10/2022   CUST-22100014   \n",
      "...              ...            ...             ...   \n",
      "1002695  Order 73416     23/02/2024  CUST-000065563   \n",
      "1002696  Order 73417     23/02/2024  CUST-000065563   \n",
      "1002697  Order 73418     20/06/2024   CUST-24051663   \n",
      "1002698  Order 63871     15/12/2023   CUST-23120248   \n",
      "1002699  Order 73419     13/06/2024   CUST-24030626   \n",
      "\n",
      "                               Customer Name  Price list Purchase Type   \n",
      "0                             MxCHxXXU xUAxN  Package 36       Partial  \\\n",
      "1                                 QxH HxNGGx  Package 36       Partial   \n",
      "2                            xNAxN XXAxPxAQx  Package 36       Partial   \n",
      "3                             FxAQxH MxxUxNx  Package 60       Partial   \n",
      "4                           xYxUUY xYxHFxAQx  Package 60       Partial   \n",
      "...                                      ...         ...           ...   \n",
      "1002695               xNxAXXQxxAxx xxQUxNGGx  Package 36          Full   \n",
      "1002696               xNxAXXQxxAxx xxQUxNGGx  Package 36          Full   \n",
      "1002697  xxXX xXAAx WxHxD FxxDx MxNxFxCAxQXX  Package 36          Full   \n",
      "1002698           ZZ. AxQYx xXQxNx xXMxDXXQx  Package 72          Full   \n",
      "1002699                    DXXUAx PxNxNG Mxx  Package 72          Full   \n",
      "\n",
      "        Installment Payment Method Promotion Code Invoice Type   \n",
      "0                      Credit Card   Hore Promo 1    Recurring  \\\n",
      "1                      Credit Card   Hore Promo 2    Recurring   \n",
      "2                 Direct Debit BCA   Hore Promo 3    Recurring   \n",
      "3                      Credit Card   Hore Promo 4    Recurring   \n",
      "4                 Direct Debit BCA   Hore Promo 3    Recurring   \n",
      "...                            ...            ...          ...   \n",
      "1002695                        NaN              0     Outright   \n",
      "1002696                        NaN              0     Outright   \n",
      "1002697                        NaN              0     Outright   \n",
      "1002698                        NaN   Hore Promo 3     Outright   \n",
      "1002699                        NaN              0     Outright   \n",
      "\n",
      "         Instalment Number  ... Invoice Date    Due Date Payment Date   \n",
      "0                        9  ...    1/02/2023  28/02/2023    2/02/2023  \\\n",
      "1                        8  ...    1/05/2024  31/05/2024   25/05/2024   \n",
      "2                        1  ...    1/05/2024  31/05/2024   30/05/2024   \n",
      "3                        9  ...    1/02/2023  28/02/2023    2/02/2023   \n",
      "4                       19  ...    1/06/2024  30/06/2024   25/06/2024   \n",
      "...                    ...  ...          ...         ...          ...   \n",
      "1002695                  0  ...   23/02/2024  24/03/2024       [NULL]   \n",
      "1002696                  0  ...   23/02/2024  24/03/2024       [NULL]   \n",
      "1002697                  0  ...   20/06/2024  20/07/2024       [NULL]   \n",
      "1002698                  0  ...   15/12/2023  14/01/2024   29/05/2024   \n",
      "1002699                  0  ...   13/06/2024  13/07/2024       [NULL]   \n",
      "\n",
      "         Payment Invoice Amount Total Payment Outstanding             Risk   \n",
      "0              0        430,000       860,000    -430,000  Risk Category 1  \\\n",
      "1              0        380,000       760,000    -380,000   No Information   \n",
      "2              0        300,000       600,000    -300,000  Risk Category 2   \n",
      "3              0        290,000       580,000    -290,000  Risk Category 1   \n",
      "4        580,000        290,000       580,000    -290,000  Risk Category 3   \n",
      "...          ...            ...           ...         ...              ...   \n",
      "1002695        0     19,950,000        [NULL]  19,950,000   No Information   \n",
      "1002696        0     19,950,000        [NULL]  19,950,000  Risk Category 2   \n",
      "1002697        0     19,950,000        [NULL]  19,950,000  Risk Category 6   \n",
      "1002698        0     28,080,000     1,170,000  26,910,000  Risk Category 1   \n",
      "1002699        0     27,300,000        [NULL]  27,300,000  Risk Category 2   \n",
      "\n",
      "        Invoice Status Overdue Months  \n",
      "0                 Paid              0  \n",
      "1                 Paid              0  \n",
      "2                 Paid              0  \n",
      "3                 Paid              0  \n",
      "4                 Paid              0  \n",
      "...                ...            ...  \n",
      "1002695        Overdue              4  \n",
      "1002696        Overdue              4  \n",
      "1002697         Unpaid              0  \n",
      "1002698        Overdue              6  \n",
      "1002699         Unpaid              0  \n",
      "\n",
      "[1002700 rows x 21 columns]\n"
     ]
    }
   ],
   "source": [
    "print(df)"
   ]
  },
  {
   "cell_type": "code",
   "execution_count": 4,
   "metadata": {},
   "outputs": [
    {
     "name": "stdout",
     "output_type": "stream",
     "text": [
      "['Order ID', 'Net Sales Date', 'Customer id', 'Customer Name', 'Price list', 'Purchase Type', 'Installment Payment Method', 'Promotion Code', 'Invoice Type', 'Instalment Number', 'INVOICE ID', 'Invoice Date', 'Due Date', 'Payment Date', 'Payment', 'Invoice Amount', 'Total Payment', 'Outstanding', 'Risk', 'Invoice Status', 'Overdue Months']\n"
     ]
    }
   ],
   "source": [
    "# Get the list of column names\n",
    "column_names = df.columns.tolist()\n",
    "\n",
    "# Print the column names\n",
    "print(column_names)"
   ]
  },
  {
   "cell_type": "code",
   "execution_count": 37,
   "metadata": {},
   "outputs": [],
   "source": [
    "# List of columns to keep\n",
    "columns_to_keep = [\n",
    "    'Purchase Type',\n",
    "    'Net Sales Date',\n",
    "    'Customer id',\n",
    "    'Customer Name',\n",
    "    'Price list',\n",
    "    'Promotion Code',\n",
    "    'Outstanding',\n",
    "    'Total Payment',\n",
    "    'Invoice Amount',\n",
    "    'Overdue Months',\n",
    "    'Invoice Date',\n",
    "    'Due Date',\n",
    "    'Payment Date',\n",
    "    'INVOICE ID'\n",
    "]"
   ]
  },
  {
   "cell_type": "code",
   "execution_count": 64,
   "metadata": {},
   "outputs": [],
   "source": [
    "df2 = df"
   ]
  },
  {
   "cell_type": "code",
   "execution_count": 38,
   "metadata": {},
   "outputs": [
    {
     "name": "stdout",
     "output_type": "stream",
     "text": [
      "  Purchase Type Net Sales Date    Customer id     Customer Name  Price list   \n",
      "0       Partial     12/04/2022  CUST-22040173    MxCHxXXU xUAxN  Package 36  \\\n",
      "1       Partial     31/08/2023  CUST-23081581        QxH HxNGGx  Package 36   \n",
      "2       Partial     30/03/2024  CUST-24031288   xNAxN XXAxPxAQx  Package 36   \n",
      "3       Partial     12/04/2022  CUST-22040230    FxAQxH MxxUxNx  Package 60   \n",
      "4       Partial      6/10/2022  CUST-22100014  xYxUUY xYxHFxAQx  Package 60   \n",
      "\n",
      "  Promotion Code Outstanding Total Payment Invoice Amount  Overdue Months   \n",
      "0   Hore Promo 1    -430,000       860,000        430,000               0  \\\n",
      "1   Hore Promo 2    -380,000       760,000        380,000               0   \n",
      "2   Hore Promo 3    -300,000       600,000        300,000               0   \n",
      "3   Hore Promo 4    -290,000       580,000        290,000               0   \n",
      "4   Hore Promo 3    -290,000       580,000        290,000               0   \n",
      "\n",
      "  Invoice Date    Due Date Payment Date    INVOICE ID  \n",
      "0    1/02/2023  28/02/2023    2/02/2023  440800018582  \n",
      "1    1/05/2024  31/05/2024   25/05/2024  461800004568  \n",
      "2    1/05/2024  31/05/2024   30/05/2024  480600261510  \n",
      "3    1/02/2023  28/02/2023    2/02/2023  440800019172  \n",
      "4    1/06/2024  30/06/2024   25/06/2024  442000016164  \n"
     ]
    }
   ],
   "source": [
    "#df2 = df[columns_to_keep]\n",
    "#print(df2.head())"
   ]
  },
  {
   "cell_type": "code",
   "execution_count": 65,
   "metadata": {},
   "outputs": [
    {
     "name": "stdout",
     "output_type": "stream",
     "text": [
      "  Order ID Net Sales Date    Customer id     Customer Name  Price list   \n",
      "0  Order 1     12/04/2022  CUST-22040173    MxCHxXXU xUAxN  Package 36  \\\n",
      "1  Order 2     31/08/2023  CUST-23081581        QxH HxNGGx  Package 36   \n",
      "2  Order 3     30/03/2024  CUST-24031288   xNAxN XXAxPxAQx  Package 36   \n",
      "3  Order 4     12/04/2022  CUST-22040230    FxAQxH MxxUxNx  Package 60   \n",
      "4  Order 5      6/10/2022  CUST-22100014  xYxUUY xYxHFxAQx  Package 60   \n",
      "\n",
      "  Purchase Type Installment Payment Method Promotion Code Invoice Type   \n",
      "0       Partial                Credit Card   Hore Promo 1    Recurring  \\\n",
      "1       Partial                Credit Card   Hore Promo 2    Recurring   \n",
      "2       Partial           Direct Debit BCA   Hore Promo 3    Recurring   \n",
      "3       Partial                Credit Card   Hore Promo 4    Recurring   \n",
      "4       Partial           Direct Debit BCA   Hore Promo 3    Recurring   \n",
      "\n",
      "   Instalment Number  ... Invoice Date    Due Date Payment Date  Payment   \n",
      "0                  9  ...    1/02/2023  28/02/2023    2/02/2023        0  \\\n",
      "1                  8  ...    1/05/2024  31/05/2024   25/05/2024        0   \n",
      "2                  1  ...    1/05/2024  31/05/2024   30/05/2024        0   \n",
      "3                  9  ...    1/02/2023  28/02/2023    2/02/2023        0   \n",
      "4                 19  ...    1/06/2024  30/06/2024   25/06/2024  580,000   \n",
      "\n",
      "  Invoice Amount Total Payment Outstanding             Risk Invoice Status   \n",
      "0        430,000       860,000    -430,000  Risk Category 1           Paid  \\\n",
      "1        380,000       760,000    -380,000   No Information           Paid   \n",
      "2        300,000       600,000    -300,000  Risk Category 2           Paid   \n",
      "3        290,000       580,000    -290,000  Risk Category 1           Paid   \n",
      "4        290,000       580,000    -290,000  Risk Category 3           Paid   \n",
      "\n",
      "  Overdue Months  \n",
      "0              0  \n",
      "1              0  \n",
      "2              0  \n",
      "3              0  \n",
      "4              0  \n",
      "\n",
      "[5 rows x 21 columns]\n"
     ]
    }
   ],
   "source": [
    "# Remove duplicate rows\n",
    "df_clean = df2.drop_duplicates()\n",
    "\n",
    "# Optionally, display the DataFrame to verify\n",
    "print(df_clean.head())"
   ]
  },
  {
   "cell_type": "code",
   "execution_count": 66,
   "metadata": {},
   "outputs": [
    {
     "name": "stdout",
     "output_type": "stream",
     "text": [
      "<class 'pandas.core.frame.DataFrame'>\n",
      "RangeIndex: 1002700 entries, 0 to 1002699\n",
      "Data columns (total 21 columns):\n",
      " #   Column                      Non-Null Count    Dtype \n",
      "---  ------                      --------------    ----- \n",
      " 0   Order ID                    1002700 non-null  object\n",
      " 1   Net Sales Date              1002700 non-null  object\n",
      " 2   Customer id                 1002700 non-null  object\n",
      " 3   Customer Name               1002700 non-null  object\n",
      " 4   Price list                  1002700 non-null  object\n",
      " 5   Purchase Type               1002700 non-null  object\n",
      " 6   Installment Payment Method  983323 non-null   object\n",
      " 7   Promotion Code              1001827 non-null  object\n",
      " 8   Invoice Type                1002700 non-null  object\n",
      " 9   Instalment Number           1002700 non-null  int64 \n",
      " 10  INVOICE ID                  1002700 non-null  object\n",
      " 11  Invoice Date                1002700 non-null  object\n",
      " 12  Due Date                    1002700 non-null  object\n",
      " 13  Payment Date                1002700 non-null  object\n",
      " 14  Payment                     1002700 non-null  object\n",
      " 15  Invoice Amount              1002700 non-null  object\n",
      " 16  Total Payment               1002700 non-null  object\n",
      " 17  Outstanding                 1002700 non-null  object\n",
      " 18  Risk                        1002700 non-null  object\n",
      " 19  Invoice Status              1002700 non-null  object\n",
      " 20  Overdue Months              1002700 non-null  int64 \n",
      "dtypes: int64(2), object(19)\n",
      "memory usage: 160.6+ MB\n"
     ]
    }
   ],
   "source": [
    "df_clean.info()\n"
   ]
  },
  {
   "cell_type": "code",
   "execution_count": 72,
   "metadata": {},
   "outputs": [],
   "source": [
    "df_clean['Outstanding'] = df_clean['Outstanding'].replace(',','', regex=True)"
   ]
  },
  {
   "cell_type": "code",
   "execution_count": 68,
   "metadata": {},
   "outputs": [
    {
     "data": {
      "text/html": [
       "<div>\n",
       "<style scoped>\n",
       "    .dataframe tbody tr th:only-of-type {\n",
       "        vertical-align: middle;\n",
       "    }\n",
       "\n",
       "    .dataframe tbody tr th {\n",
       "        vertical-align: top;\n",
       "    }\n",
       "\n",
       "    .dataframe thead th {\n",
       "        text-align: right;\n",
       "    }\n",
       "</style>\n",
       "<table border=\"1\" class=\"dataframe\">\n",
       "  <thead>\n",
       "    <tr style=\"text-align: right;\">\n",
       "      <th></th>\n",
       "      <th>Order ID</th>\n",
       "      <th>Net Sales Date</th>\n",
       "      <th>Customer id</th>\n",
       "      <th>Customer Name</th>\n",
       "      <th>Price list</th>\n",
       "      <th>Purchase Type</th>\n",
       "      <th>Installment Payment Method</th>\n",
       "      <th>Promotion Code</th>\n",
       "      <th>Invoice Type</th>\n",
       "      <th>Instalment Number</th>\n",
       "      <th>...</th>\n",
       "      <th>Invoice Date</th>\n",
       "      <th>Due Date</th>\n",
       "      <th>Payment Date</th>\n",
       "      <th>Payment</th>\n",
       "      <th>Invoice Amount</th>\n",
       "      <th>Total Payment</th>\n",
       "      <th>Outstanding</th>\n",
       "      <th>Risk</th>\n",
       "      <th>Invoice Status</th>\n",
       "      <th>Overdue Months</th>\n",
       "    </tr>\n",
       "  </thead>\n",
       "  <tbody>\n",
       "    <tr>\n",
       "      <th>0</th>\n",
       "      <td>Order 1</td>\n",
       "      <td>12/04/2022</td>\n",
       "      <td>CUST-22040173</td>\n",
       "      <td>MxCHxXXU xUAxN</td>\n",
       "      <td>Package 36</td>\n",
       "      <td>Partial</td>\n",
       "      <td>Credit Card</td>\n",
       "      <td>Hore Promo 1</td>\n",
       "      <td>Recurring</td>\n",
       "      <td>9</td>\n",
       "      <td>...</td>\n",
       "      <td>1/02/2023</td>\n",
       "      <td>28/02/2023</td>\n",
       "      <td>2/02/2023</td>\n",
       "      <td>0</td>\n",
       "      <td>430,000</td>\n",
       "      <td>860,000</td>\n",
       "      <td>-430000</td>\n",
       "      <td>Risk Category 1</td>\n",
       "      <td>Paid</td>\n",
       "      <td>0</td>\n",
       "    </tr>\n",
       "    <tr>\n",
       "      <th>1</th>\n",
       "      <td>Order 2</td>\n",
       "      <td>31/08/2023</td>\n",
       "      <td>CUST-23081581</td>\n",
       "      <td>QxH HxNGGx</td>\n",
       "      <td>Package 36</td>\n",
       "      <td>Partial</td>\n",
       "      <td>Credit Card</td>\n",
       "      <td>Hore Promo 2</td>\n",
       "      <td>Recurring</td>\n",
       "      <td>8</td>\n",
       "      <td>...</td>\n",
       "      <td>1/05/2024</td>\n",
       "      <td>31/05/2024</td>\n",
       "      <td>25/05/2024</td>\n",
       "      <td>0</td>\n",
       "      <td>380,000</td>\n",
       "      <td>760,000</td>\n",
       "      <td>-380000</td>\n",
       "      <td>No Information</td>\n",
       "      <td>Paid</td>\n",
       "      <td>0</td>\n",
       "    </tr>\n",
       "    <tr>\n",
       "      <th>2</th>\n",
       "      <td>Order 3</td>\n",
       "      <td>30/03/2024</td>\n",
       "      <td>CUST-24031288</td>\n",
       "      <td>xNAxN XXAxPxAQx</td>\n",
       "      <td>Package 36</td>\n",
       "      <td>Partial</td>\n",
       "      <td>Direct Debit BCA</td>\n",
       "      <td>Hore Promo 3</td>\n",
       "      <td>Recurring</td>\n",
       "      <td>1</td>\n",
       "      <td>...</td>\n",
       "      <td>1/05/2024</td>\n",
       "      <td>31/05/2024</td>\n",
       "      <td>30/05/2024</td>\n",
       "      <td>0</td>\n",
       "      <td>300,000</td>\n",
       "      <td>600,000</td>\n",
       "      <td>-300000</td>\n",
       "      <td>Risk Category 2</td>\n",
       "      <td>Paid</td>\n",
       "      <td>0</td>\n",
       "    </tr>\n",
       "    <tr>\n",
       "      <th>3</th>\n",
       "      <td>Order 4</td>\n",
       "      <td>12/04/2022</td>\n",
       "      <td>CUST-22040230</td>\n",
       "      <td>FxAQxH MxxUxNx</td>\n",
       "      <td>Package 60</td>\n",
       "      <td>Partial</td>\n",
       "      <td>Credit Card</td>\n",
       "      <td>Hore Promo 4</td>\n",
       "      <td>Recurring</td>\n",
       "      <td>9</td>\n",
       "      <td>...</td>\n",
       "      <td>1/02/2023</td>\n",
       "      <td>28/02/2023</td>\n",
       "      <td>2/02/2023</td>\n",
       "      <td>0</td>\n",
       "      <td>290,000</td>\n",
       "      <td>580,000</td>\n",
       "      <td>-290000</td>\n",
       "      <td>Risk Category 1</td>\n",
       "      <td>Paid</td>\n",
       "      <td>0</td>\n",
       "    </tr>\n",
       "    <tr>\n",
       "      <th>4</th>\n",
       "      <td>Order 5</td>\n",
       "      <td>6/10/2022</td>\n",
       "      <td>CUST-22100014</td>\n",
       "      <td>xYxUUY xYxHFxAQx</td>\n",
       "      <td>Package 60</td>\n",
       "      <td>Partial</td>\n",
       "      <td>Direct Debit BCA</td>\n",
       "      <td>Hore Promo 3</td>\n",
       "      <td>Recurring</td>\n",
       "      <td>19</td>\n",
       "      <td>...</td>\n",
       "      <td>1/06/2024</td>\n",
       "      <td>30/06/2024</td>\n",
       "      <td>25/06/2024</td>\n",
       "      <td>580,000</td>\n",
       "      <td>290,000</td>\n",
       "      <td>580,000</td>\n",
       "      <td>-290000</td>\n",
       "      <td>Risk Category 3</td>\n",
       "      <td>Paid</td>\n",
       "      <td>0</td>\n",
       "    </tr>\n",
       "  </tbody>\n",
       "</table>\n",
       "<p>5 rows × 21 columns</p>\n",
       "</div>"
      ],
      "text/plain": [
       "  Order ID Net Sales Date    Customer id     Customer Name  Price list   \n",
       "0  Order 1     12/04/2022  CUST-22040173    MxCHxXXU xUAxN  Package 36  \\\n",
       "1  Order 2     31/08/2023  CUST-23081581        QxH HxNGGx  Package 36   \n",
       "2  Order 3     30/03/2024  CUST-24031288   xNAxN XXAxPxAQx  Package 36   \n",
       "3  Order 4     12/04/2022  CUST-22040230    FxAQxH MxxUxNx  Package 60   \n",
       "4  Order 5      6/10/2022  CUST-22100014  xYxUUY xYxHFxAQx  Package 60   \n",
       "\n",
       "  Purchase Type Installment Payment Method Promotion Code Invoice Type   \n",
       "0       Partial                Credit Card   Hore Promo 1    Recurring  \\\n",
       "1       Partial                Credit Card   Hore Promo 2    Recurring   \n",
       "2       Partial           Direct Debit BCA   Hore Promo 3    Recurring   \n",
       "3       Partial                Credit Card   Hore Promo 4    Recurring   \n",
       "4       Partial           Direct Debit BCA   Hore Promo 3    Recurring   \n",
       "\n",
       "   Instalment Number  ... Invoice Date    Due Date Payment Date  Payment   \n",
       "0                  9  ...    1/02/2023  28/02/2023    2/02/2023        0  \\\n",
       "1                  8  ...    1/05/2024  31/05/2024   25/05/2024        0   \n",
       "2                  1  ...    1/05/2024  31/05/2024   30/05/2024        0   \n",
       "3                  9  ...    1/02/2023  28/02/2023    2/02/2023        0   \n",
       "4                 19  ...    1/06/2024  30/06/2024   25/06/2024  580,000   \n",
       "\n",
       "  Invoice Amount Total Payment Outstanding             Risk Invoice Status   \n",
       "0        430,000       860,000     -430000  Risk Category 1           Paid  \\\n",
       "1        380,000       760,000     -380000   No Information           Paid   \n",
       "2        300,000       600,000     -300000  Risk Category 2           Paid   \n",
       "3        290,000       580,000     -290000  Risk Category 1           Paid   \n",
       "4        290,000       580,000     -290000  Risk Category 3           Paid   \n",
       "\n",
       "  Overdue Months  \n",
       "0              0  \n",
       "1              0  \n",
       "2              0  \n",
       "3              0  \n",
       "4              0  \n",
       "\n",
       "[5 rows x 21 columns]"
      ]
     },
     "execution_count": 68,
     "metadata": {},
     "output_type": "execute_result"
    }
   ],
   "source": [
    "df_clean.head()"
   ]
  },
  {
   "cell_type": "code",
   "execution_count": 73,
   "metadata": {},
   "outputs": [
    {
     "data": {
      "text/plain": [
       "0           -430000.0\n",
       "1           -380000.0\n",
       "2           -300000.0\n",
       "3           -290000.0\n",
       "4           -290000.0\n",
       "              ...    \n",
       "1002695    19950000.0\n",
       "1002696    19950000.0\n",
       "1002697    19950000.0\n",
       "1002698    26910000.0\n",
       "1002699    27300000.0\n",
       "Name: Outstanding, Length: 1002700, dtype: float64"
      ]
     },
     "execution_count": 73,
     "metadata": {},
     "output_type": "execute_result"
    }
   ],
   "source": [
    "df_clean['Outstanding'].astype(str).astype(float)"
   ]
  },
  {
   "cell_type": "code",
   "execution_count": 74,
   "metadata": {},
   "outputs": [],
   "source": [
    "df_clean['Outstanding'] = df_clean['Outstanding'].apply(lambda x: int(round(float(x))))"
   ]
  },
  {
   "cell_type": "code",
   "execution_count": 75,
   "metadata": {},
   "outputs": [
    {
     "name": "stdout",
     "output_type": "stream",
     "text": [
      "Order ID                          0\n",
      "Net Sales Date                    0\n",
      "Customer id                       0\n",
      "Customer Name                     0\n",
      "Price list                        0\n",
      "Purchase Type                     0\n",
      "Installment Payment Method    19377\n",
      "Promotion Code                  873\n",
      "Invoice Type                      0\n",
      "Instalment Number                 0\n",
      "INVOICE ID                        0\n",
      "Invoice Date                      0\n",
      "Due Date                          0\n",
      "Payment Date                      0\n",
      "Payment                           0\n",
      "Invoice Amount                    0\n",
      "Total Payment                     0\n",
      "Outstanding                       0\n",
      "Risk                              0\n",
      "Invoice Status                    0\n",
      "Overdue Months                    0\n",
      "dtype: int64\n"
     ]
    }
   ],
   "source": [
    "#drop the nulls\n",
    "\n",
    "# Check for nulls in each column\n",
    "null_counts = df_clean.isnull().sum()\n",
    "\n",
    "# Print the count of null values for each column\n",
    "print(null_counts)"
   ]
  },
  {
   "cell_type": "code",
   "execution_count": 76,
   "metadata": {},
   "outputs": [
    {
     "data": {
      "text/plain": [
       "0           -430000\n",
       "1           -380000\n",
       "2           -300000\n",
       "3           -290000\n",
       "4           -290000\n",
       "             ...   \n",
       "1002695    19950000\n",
       "1002696    19950000\n",
       "1002697    19950000\n",
       "1002698    26910000\n",
       "1002699    27300000\n",
       "Name: Outstanding, Length: 1002700, dtype: int32"
      ]
     },
     "execution_count": 76,
     "metadata": {},
     "output_type": "execute_result"
    }
   ],
   "source": [
    "df_clean['Outstanding'].astype(int)"
   ]
  },
  {
   "cell_type": "code",
   "execution_count": 77,
   "metadata": {},
   "outputs": [],
   "source": [
    "df_clean['Outstanding'] = pd.to_numeric(df_clean['Outstanding'], errors='coerce')"
   ]
  },
  {
   "cell_type": "code",
   "execution_count": 78,
   "metadata": {},
   "outputs": [],
   "source": [
    "# Define a function to categorize the Outstanding amounts\n",
    "def categorize_outstanding(amount):\n",
    "    if amount < 500000:\n",
    "        return 'A'\n",
    "    elif 500000 <= amount <= 5000000:\n",
    "        return 'B'\n",
    "    elif 5000001 <= amount <= 10000000:\n",
    "        return 'C'\n",
    "    elif amount > 10000000:\n",
    "        return 'D'\n",
    "    else:\n",
    "        return 'Unknown'  # Just in case there are unexpected values\n",
    "\n",
    "# Apply the function to create the 'Outstanding group' column\n",
    "df_clean['Outstanding group'] = df_clean['Outstanding'].apply(categorize_outstanding)"
   ]
  },
  {
   "cell_type": "code",
   "execution_count": 79,
   "metadata": {},
   "outputs": [
    {
     "name": "stdout",
     "output_type": "stream",
     "text": [
      "Number of 'Unknown' entries: 0\n"
     ]
    }
   ],
   "source": [
    "# Count the occurrences of each unique value in the 'Outstanding group' column\n",
    "value_counts = df_clean['Outstanding group'].value_counts()\n",
    "\n",
    "# Print the count of 'Unknown'\n",
    "unknown_count = value_counts.get('Unknown', 0)\n",
    "print(f\"Number of 'Unknown' entries: {unknown_count}\")\n"
   ]
  },
  {
   "cell_type": "code",
   "execution_count": 80,
   "metadata": {},
   "outputs": [],
   "source": [
    "df3 = df_clean.copy()"
   ]
  },
  {
   "cell_type": "code",
   "execution_count": 81,
   "metadata": {},
   "outputs": [],
   "source": [
    "#menghapus NULL\n",
    "df3 = df3[~df3['Total Payment'].str.contains('\\[NULL\\]')]"
   ]
  },
  {
   "cell_type": "code",
   "execution_count": 82,
   "metadata": {},
   "outputs": [
    {
     "name": "stdout",
     "output_type": "stream",
     "text": [
      "            Order ID Net Sales Date     Customer id   \n",
      "0            Order 1     12/04/2022   CUST-22040173  \\\n",
      "1            Order 2     31/08/2023   CUST-23081581   \n",
      "2            Order 3     30/03/2024   CUST-24031288   \n",
      "3            Order 4     12/04/2022   CUST-22040230   \n",
      "4            Order 5      6/10/2022   CUST-22100014   \n",
      "...              ...            ...             ...   \n",
      "1002597  Order 73318      2/01/2024   CUST-23050308   \n",
      "1002598  Order 73319      2/01/2024   CUST-23050308   \n",
      "1002599  Order 73320      2/01/2024   CUST-23050308   \n",
      "1002600  Order 73321     21/12/2020  CUST-000059833   \n",
      "1002698  Order 63871     15/12/2023   CUST-23120248   \n",
      "\n",
      "                              Customer Name  Price list Purchase Type   \n",
      "0                            MxCHxXXU xUAxN  Package 36       Partial  \\\n",
      "1                                QxH HxNGGx  Package 36       Partial   \n",
      "2                           xNAxN XXAxPxAQx  Package 36       Partial   \n",
      "3                            FxAQxH MxxUxNx  Package 60       Partial   \n",
      "4                          xYxUUY xYxHFxAQx  Package 60       Partial   \n",
      "...                                     ...         ...           ...   \n",
      "1002597  XXMxxY xF AHXX QXXPxxUxC xF AxQxXX  Package 36          Full   \n",
      "1002598  XXMxxY xF AHXX QXXPxxUxC xF AxQxXX  Package 36          Full   \n",
      "1002599  XXMxxY xF AHXX QXXPxxUxC xF AxQxXX  Package 36          Full   \n",
      "1002600                    CA. CxAQx MxYxNx   Package 6          Full   \n",
      "1002698          ZZ. AxQYx xXQxNx xXMxDXXQx  Package 72          Full   \n",
      "\n",
      "        Installment Payment Method Promotion Code Invoice Type   \n",
      "0                      Credit Card   Hore Promo 1    Recurring  \\\n",
      "1                      Credit Card   Hore Promo 2    Recurring   \n",
      "2                 Direct Debit BCA   Hore Promo 3    Recurring   \n",
      "3                      Credit Card   Hore Promo 4    Recurring   \n",
      "4                 Direct Debit BCA   Hore Promo 3    Recurring   \n",
      "...                            ...            ...          ...   \n",
      "1002597                        NaN              0     Outright   \n",
      "1002598                        NaN              0     Outright   \n",
      "1002599                        NaN              0     Outright   \n",
      "1002600                        NaN              0     Outright   \n",
      "1002698                        NaN   Hore Promo 3     Outright   \n",
      "\n",
      "         Instalment Number  ...    Due Date Payment Date  Payment   \n",
      "0                        9  ...  28/02/2023    2/02/2023        0  \\\n",
      "1                        8  ...  31/05/2024   25/05/2024        0   \n",
      "2                        1  ...  31/05/2024   30/05/2024        0   \n",
      "3                        9  ...  28/02/2023    2/02/2023        0   \n",
      "4                       19  ...  30/06/2024   25/06/2024  580,000   \n",
      "...                    ...  ...         ...          ...      ...   \n",
      "1002597                  0  ...   1/02/2024    1/02/2024        0   \n",
      "1002598                  0  ...   1/02/2024    1/02/2024        0   \n",
      "1002599                  0  ...   1/02/2024    1/02/2024        0   \n",
      "1002600                  0  ...  20/01/2021   30/11/2021        0   \n",
      "1002698                  0  ...  14/01/2024   29/05/2024        0   \n",
      "\n",
      "        Invoice Amount Total Payment Outstanding             Risk   \n",
      "0              430,000       860,000     -430000  Risk Category 1  \\\n",
      "1              380,000       760,000     -380000   No Information   \n",
      "2              300,000       600,000     -300000  Risk Category 2   \n",
      "3              290,000       580,000     -290000  Risk Category 1   \n",
      "4              290,000       580,000     -290000  Risk Category 3   \n",
      "...                ...           ...         ...              ...   \n",
      "1002597   8,918,918.73  2,972,972.98     5945946   No Information   \n",
      "1002598   8,918,918.73  2,972,972.98     5945946   No Information   \n",
      "1002599   8,918,918.73  2,972,972.98     5945946   No Information   \n",
      "1002600      7,460,000     1,080,000     6380000   No Information   \n",
      "1002698     28,080,000     1,170,000    26910000  Risk Category 1   \n",
      "\n",
      "         Invoice Status Overdue Months Outstanding group  \n",
      "0                  Paid              0                 A  \n",
      "1                  Paid              0                 A  \n",
      "2                  Paid              0                 A  \n",
      "3                  Paid              0                 A  \n",
      "4                  Paid              0                 A  \n",
      "...                 ...            ...               ...  \n",
      "1002597         Overdue              5                 C  \n",
      "1002598         Overdue              5                 C  \n",
      "1002599         Overdue              5                 C  \n",
      "1002600         Overdue             42                 C  \n",
      "1002698         Overdue              6                 D  \n",
      "\n",
      "[841777 rows x 22 columns]\n"
     ]
    }
   ],
   "source": [
    "print(df3)"
   ]
  },
  {
   "cell_type": "code",
   "execution_count": 52,
   "metadata": {},
   "outputs": [
    {
     "data": {
      "text/html": [
       "<div>\n",
       "<style scoped>\n",
       "    .dataframe tbody tr th:only-of-type {\n",
       "        vertical-align: middle;\n",
       "    }\n",
       "\n",
       "    .dataframe tbody tr th {\n",
       "        vertical-align: top;\n",
       "    }\n",
       "\n",
       "    .dataframe thead th {\n",
       "        text-align: right;\n",
       "    }\n",
       "</style>\n",
       "<table border=\"1\" class=\"dataframe\">\n",
       "  <thead>\n",
       "    <tr style=\"text-align: right;\">\n",
       "      <th></th>\n",
       "      <th>Purchase Type</th>\n",
       "      <th>Net Sales Date</th>\n",
       "      <th>Customer id</th>\n",
       "      <th>Customer Name</th>\n",
       "      <th>Price list</th>\n",
       "      <th>Promotion Code</th>\n",
       "      <th>Outstanding</th>\n",
       "      <th>Total Payment</th>\n",
       "      <th>Invoice Amount</th>\n",
       "      <th>Overdue Months</th>\n",
       "      <th>Invoice Date</th>\n",
       "      <th>Due Date</th>\n",
       "      <th>Payment Date</th>\n",
       "      <th>INVOICE ID</th>\n",
       "      <th>Outstanding group</th>\n",
       "    </tr>\n",
       "  </thead>\n",
       "  <tbody>\n",
       "    <tr>\n",
       "      <th>0</th>\n",
       "      <td>Partial</td>\n",
       "      <td>12/04/2022</td>\n",
       "      <td>CUST-22040173</td>\n",
       "      <td>MxCHxXXU xUAxN</td>\n",
       "      <td>Package 36</td>\n",
       "      <td>Hore Promo 1</td>\n",
       "      <td>-430000</td>\n",
       "      <td>860,000</td>\n",
       "      <td>430,000</td>\n",
       "      <td>0</td>\n",
       "      <td>1/02/2023</td>\n",
       "      <td>28/02/2023</td>\n",
       "      <td>2/02/2023</td>\n",
       "      <td>440800018582</td>\n",
       "      <td>A</td>\n",
       "    </tr>\n",
       "    <tr>\n",
       "      <th>1</th>\n",
       "      <td>Partial</td>\n",
       "      <td>31/08/2023</td>\n",
       "      <td>CUST-23081581</td>\n",
       "      <td>QxH HxNGGx</td>\n",
       "      <td>Package 36</td>\n",
       "      <td>Hore Promo 2</td>\n",
       "      <td>-380000</td>\n",
       "      <td>760,000</td>\n",
       "      <td>380,000</td>\n",
       "      <td>0</td>\n",
       "      <td>1/05/2024</td>\n",
       "      <td>31/05/2024</td>\n",
       "      <td>25/05/2024</td>\n",
       "      <td>461800004568</td>\n",
       "      <td>A</td>\n",
       "    </tr>\n",
       "    <tr>\n",
       "      <th>2</th>\n",
       "      <td>Partial</td>\n",
       "      <td>30/03/2024</td>\n",
       "      <td>CUST-24031288</td>\n",
       "      <td>xNAxN XXAxPxAQx</td>\n",
       "      <td>Package 36</td>\n",
       "      <td>Hore Promo 3</td>\n",
       "      <td>-300000</td>\n",
       "      <td>600,000</td>\n",
       "      <td>300,000</td>\n",
       "      <td>0</td>\n",
       "      <td>1/05/2024</td>\n",
       "      <td>31/05/2024</td>\n",
       "      <td>30/05/2024</td>\n",
       "      <td>480600261510</td>\n",
       "      <td>A</td>\n",
       "    </tr>\n",
       "    <tr>\n",
       "      <th>3</th>\n",
       "      <td>Partial</td>\n",
       "      <td>12/04/2022</td>\n",
       "      <td>CUST-22040230</td>\n",
       "      <td>FxAQxH MxxUxNx</td>\n",
       "      <td>Package 60</td>\n",
       "      <td>Hore Promo 4</td>\n",
       "      <td>-290000</td>\n",
       "      <td>580,000</td>\n",
       "      <td>290,000</td>\n",
       "      <td>0</td>\n",
       "      <td>1/02/2023</td>\n",
       "      <td>28/02/2023</td>\n",
       "      <td>2/02/2023</td>\n",
       "      <td>440800019172</td>\n",
       "      <td>A</td>\n",
       "    </tr>\n",
       "    <tr>\n",
       "      <th>4</th>\n",
       "      <td>Partial</td>\n",
       "      <td>6/10/2022</td>\n",
       "      <td>CUST-22100014</td>\n",
       "      <td>xYxUUY xYxHFxAQx</td>\n",
       "      <td>Package 60</td>\n",
       "      <td>Hore Promo 3</td>\n",
       "      <td>-290000</td>\n",
       "      <td>580,000</td>\n",
       "      <td>290,000</td>\n",
       "      <td>0</td>\n",
       "      <td>1/06/2024</td>\n",
       "      <td>30/06/2024</td>\n",
       "      <td>25/06/2024</td>\n",
       "      <td>442000016164</td>\n",
       "      <td>A</td>\n",
       "    </tr>\n",
       "  </tbody>\n",
       "</table>\n",
       "</div>"
      ],
      "text/plain": [
       "  Purchase Type Net Sales Date    Customer id     Customer Name  Price list   \n",
       "0       Partial     12/04/2022  CUST-22040173    MxCHxXXU xUAxN  Package 36  \\\n",
       "1       Partial     31/08/2023  CUST-23081581        QxH HxNGGx  Package 36   \n",
       "2       Partial     30/03/2024  CUST-24031288   xNAxN XXAxPxAQx  Package 36   \n",
       "3       Partial     12/04/2022  CUST-22040230    FxAQxH MxxUxNx  Package 60   \n",
       "4       Partial      6/10/2022  CUST-22100014  xYxUUY xYxHFxAQx  Package 60   \n",
       "\n",
       "  Promotion Code  Outstanding Total Payment Invoice Amount  Overdue Months   \n",
       "0   Hore Promo 1      -430000       860,000        430,000               0  \\\n",
       "1   Hore Promo 2      -380000       760,000        380,000               0   \n",
       "2   Hore Promo 3      -300000       600,000        300,000               0   \n",
       "3   Hore Promo 4      -290000       580,000        290,000               0   \n",
       "4   Hore Promo 3      -290000       580,000        290,000               0   \n",
       "\n",
       "  Invoice Date    Due Date Payment Date    INVOICE ID Outstanding group  \n",
       "0    1/02/2023  28/02/2023    2/02/2023  440800018582                 A  \n",
       "1    1/05/2024  31/05/2024   25/05/2024  461800004568                 A  \n",
       "2    1/05/2024  31/05/2024   30/05/2024  480600261510                 A  \n",
       "3    1/02/2023  28/02/2023    2/02/2023  440800019172                 A  \n",
       "4    1/06/2024  30/06/2024   25/06/2024  442000016164                 A  "
      ]
     },
     "execution_count": 52,
     "metadata": {},
     "output_type": "execute_result"
    }
   ],
   "source": [
    "df3.head()"
   ]
  },
  {
   "cell_type": "code",
   "execution_count": 83,
   "metadata": {},
   "outputs": [],
   "source": [
    "df4 = df3.copy()"
   ]
  },
  {
   "cell_type": "code",
   "execution_count": 84,
   "metadata": {},
   "outputs": [
    {
     "name": "stdout",
     "output_type": "stream",
     "text": [
      "<class 'pandas.core.frame.DataFrame'>\n",
      "Index: 841777 entries, 0 to 1002698\n",
      "Data columns (total 22 columns):\n",
      " #   Column                      Non-Null Count   Dtype \n",
      "---  ------                      --------------   ----- \n",
      " 0   Order ID                    841777 non-null  object\n",
      " 1   Net Sales Date              841777 non-null  object\n",
      " 2   Customer id                 841777 non-null  object\n",
      " 3   Customer Name               841777 non-null  object\n",
      " 4   Price list                  841777 non-null  object\n",
      " 5   Purchase Type               841777 non-null  object\n",
      " 6   Installment Payment Method  822715 non-null  object\n",
      " 7   Promotion Code              841007 non-null  object\n",
      " 8   Invoice Type                841777 non-null  object\n",
      " 9   Instalment Number           841777 non-null  int64 \n",
      " 10  INVOICE ID                  841777 non-null  object\n",
      " 11  Invoice Date                841777 non-null  object\n",
      " 12  Due Date                    841777 non-null  object\n",
      " 13  Payment Date                841777 non-null  object\n",
      " 14  Payment                     841777 non-null  object\n",
      " 15  Invoice Amount              841777 non-null  object\n",
      " 16  Total Payment               841777 non-null  object\n",
      " 17  Outstanding                 841777 non-null  int64 \n",
      " 18  Risk                        841777 non-null  object\n",
      " 19  Invoice Status              841777 non-null  object\n",
      " 20  Overdue Months              841777 non-null  int64 \n",
      " 21  Outstanding group           841777 non-null  object\n",
      "dtypes: int64(3), object(19)\n",
      "memory usage: 147.7+ MB\n"
     ]
    }
   ],
   "source": [
    "df4.info()"
   ]
  },
  {
   "cell_type": "code",
   "execution_count": 85,
   "metadata": {},
   "outputs": [],
   "source": [
    "df4['Invoice Amount'] = df4['Invoice Amount'].replace(',','', regex=True)\n",
    "df4['Total Payment'] = df4['Total Payment'].replace(',','', regex=True)"
   ]
  },
  {
   "cell_type": "code",
   "execution_count": 86,
   "metadata": {},
   "outputs": [
    {
     "data": {
      "text/plain": [
       "0           860000.00\n",
       "1           760000.00\n",
       "2           600000.00\n",
       "3           580000.00\n",
       "4           580000.00\n",
       "              ...    \n",
       "1002597    2972972.98\n",
       "1002598    2972972.98\n",
       "1002599    2972972.98\n",
       "1002600    1080000.00\n",
       "1002698    1170000.00\n",
       "Name: Total Payment, Length: 841777, dtype: float64"
      ]
     },
     "execution_count": 86,
     "metadata": {},
     "output_type": "execute_result"
    }
   ],
   "source": [
    "df4['Invoice Amount'].astype(str).astype(float)\n",
    "df4['Total Payment'].astype(str).astype(float)"
   ]
  },
  {
   "cell_type": "code",
   "execution_count": 87,
   "metadata": {},
   "outputs": [],
   "source": [
    "df4['Invoice Amount'] = df4['Invoice Amount'].apply(lambda x: int(round(float(x))))\n",
    "df4['Total Payment'] = df4['Total Payment'].apply(lambda x: int(round(float(x))))"
   ]
  },
  {
   "cell_type": "code",
   "execution_count": 88,
   "metadata": {},
   "outputs": [
    {
     "data": {
      "text/plain": [
       "0           0\n",
       "1           0\n",
       "2           0\n",
       "3           0\n",
       "4           0\n",
       "           ..\n",
       "1002597     5\n",
       "1002598     5\n",
       "1002599     5\n",
       "1002600    42\n",
       "1002698     6\n",
       "Name: Overdue Months, Length: 841777, dtype: int32"
      ]
     },
     "execution_count": 88,
     "metadata": {},
     "output_type": "execute_result"
    }
   ],
   "source": [
    "df4['Total Payment'].astype(int)\n",
    "df4['Invoice Amount'].astype(int)\n",
    "df4['Overdue Months'].astype(int)"
   ]
  },
  {
   "cell_type": "code",
   "execution_count": 89,
   "metadata": {},
   "outputs": [
    {
     "name": "stdout",
     "output_type": "stream",
     "text": [
      "Order ID                          0\n",
      "Net Sales Date                    0\n",
      "Customer id                       0\n",
      "Customer Name                     0\n",
      "Price list                        0\n",
      "Purchase Type                     0\n",
      "Installment Payment Method    19062\n",
      "Promotion Code                  770\n",
      "Invoice Type                      0\n",
      "Instalment Number                 0\n",
      "INVOICE ID                        0\n",
      "Invoice Date                      0\n",
      "Due Date                          0\n",
      "Payment Date                      0\n",
      "Payment                           0\n",
      "Invoice Amount                    0\n",
      "Total Payment                     0\n",
      "Outstanding                       0\n",
      "Risk                              0\n",
      "Invoice Status                    0\n",
      "Overdue Months                    0\n",
      "Outstanding group                 0\n",
      "dtype: int64\n"
     ]
    }
   ],
   "source": [
    "#drop the nulls\n",
    "\n",
    "# Check for nulls in each column\n",
    "null_counts = df4.isnull().sum()\n",
    "\n",
    "# Print the count of null values for each column\n",
    "print(null_counts)"
   ]
  },
  {
   "cell_type": "code",
   "execution_count": 90,
   "metadata": {},
   "outputs": [],
   "source": [
    "df4['Collection Rate'] = np.where(df4['Total Payment'] >= df4['Invoice Amount'], 100, (df4['Total Payment'] / df4['Invoice Amount']) * 100)"
   ]
  },
  {
   "cell_type": "code",
   "execution_count": 121,
   "metadata": {},
   "outputs": [],
   "source": [
    "#df4['Collection Rate'] = (df4['Total Payment'] / df4['Invoice Amount']) * df4['Overdue Months']"
   ]
  },
  {
   "cell_type": "code",
   "execution_count": 91,
   "metadata": {},
   "outputs": [
    {
     "data": {
      "text/html": [
       "<div>\n",
       "<style scoped>\n",
       "    .dataframe tbody tr th:only-of-type {\n",
       "        vertical-align: middle;\n",
       "    }\n",
       "\n",
       "    .dataframe tbody tr th {\n",
       "        vertical-align: top;\n",
       "    }\n",
       "\n",
       "    .dataframe thead th {\n",
       "        text-align: right;\n",
       "    }\n",
       "</style>\n",
       "<table border=\"1\" class=\"dataframe\">\n",
       "  <thead>\n",
       "    <tr style=\"text-align: right;\">\n",
       "      <th></th>\n",
       "      <th>Order ID</th>\n",
       "      <th>Net Sales Date</th>\n",
       "      <th>Customer id</th>\n",
       "      <th>Customer Name</th>\n",
       "      <th>Price list</th>\n",
       "      <th>Purchase Type</th>\n",
       "      <th>Installment Payment Method</th>\n",
       "      <th>Promotion Code</th>\n",
       "      <th>Invoice Type</th>\n",
       "      <th>Instalment Number</th>\n",
       "      <th>...</th>\n",
       "      <th>Payment Date</th>\n",
       "      <th>Payment</th>\n",
       "      <th>Invoice Amount</th>\n",
       "      <th>Total Payment</th>\n",
       "      <th>Outstanding</th>\n",
       "      <th>Risk</th>\n",
       "      <th>Invoice Status</th>\n",
       "      <th>Overdue Months</th>\n",
       "      <th>Outstanding group</th>\n",
       "      <th>Collection Rate</th>\n",
       "    </tr>\n",
       "  </thead>\n",
       "  <tbody>\n",
       "    <tr>\n",
       "      <th>0</th>\n",
       "      <td>Order 1</td>\n",
       "      <td>12/04/2022</td>\n",
       "      <td>CUST-22040173</td>\n",
       "      <td>MxCHxXXU xUAxN</td>\n",
       "      <td>Package 36</td>\n",
       "      <td>Partial</td>\n",
       "      <td>Credit Card</td>\n",
       "      <td>Hore Promo 1</td>\n",
       "      <td>Recurring</td>\n",
       "      <td>9</td>\n",
       "      <td>...</td>\n",
       "      <td>2/02/2023</td>\n",
       "      <td>0</td>\n",
       "      <td>430000</td>\n",
       "      <td>860000</td>\n",
       "      <td>-430000</td>\n",
       "      <td>Risk Category 1</td>\n",
       "      <td>Paid</td>\n",
       "      <td>0</td>\n",
       "      <td>A</td>\n",
       "      <td>100.0</td>\n",
       "    </tr>\n",
       "    <tr>\n",
       "      <th>1</th>\n",
       "      <td>Order 2</td>\n",
       "      <td>31/08/2023</td>\n",
       "      <td>CUST-23081581</td>\n",
       "      <td>QxH HxNGGx</td>\n",
       "      <td>Package 36</td>\n",
       "      <td>Partial</td>\n",
       "      <td>Credit Card</td>\n",
       "      <td>Hore Promo 2</td>\n",
       "      <td>Recurring</td>\n",
       "      <td>8</td>\n",
       "      <td>...</td>\n",
       "      <td>25/05/2024</td>\n",
       "      <td>0</td>\n",
       "      <td>380000</td>\n",
       "      <td>760000</td>\n",
       "      <td>-380000</td>\n",
       "      <td>No Information</td>\n",
       "      <td>Paid</td>\n",
       "      <td>0</td>\n",
       "      <td>A</td>\n",
       "      <td>100.0</td>\n",
       "    </tr>\n",
       "    <tr>\n",
       "      <th>2</th>\n",
       "      <td>Order 3</td>\n",
       "      <td>30/03/2024</td>\n",
       "      <td>CUST-24031288</td>\n",
       "      <td>xNAxN XXAxPxAQx</td>\n",
       "      <td>Package 36</td>\n",
       "      <td>Partial</td>\n",
       "      <td>Direct Debit BCA</td>\n",
       "      <td>Hore Promo 3</td>\n",
       "      <td>Recurring</td>\n",
       "      <td>1</td>\n",
       "      <td>...</td>\n",
       "      <td>30/05/2024</td>\n",
       "      <td>0</td>\n",
       "      <td>300000</td>\n",
       "      <td>600000</td>\n",
       "      <td>-300000</td>\n",
       "      <td>Risk Category 2</td>\n",
       "      <td>Paid</td>\n",
       "      <td>0</td>\n",
       "      <td>A</td>\n",
       "      <td>100.0</td>\n",
       "    </tr>\n",
       "    <tr>\n",
       "      <th>3</th>\n",
       "      <td>Order 4</td>\n",
       "      <td>12/04/2022</td>\n",
       "      <td>CUST-22040230</td>\n",
       "      <td>FxAQxH MxxUxNx</td>\n",
       "      <td>Package 60</td>\n",
       "      <td>Partial</td>\n",
       "      <td>Credit Card</td>\n",
       "      <td>Hore Promo 4</td>\n",
       "      <td>Recurring</td>\n",
       "      <td>9</td>\n",
       "      <td>...</td>\n",
       "      <td>2/02/2023</td>\n",
       "      <td>0</td>\n",
       "      <td>290000</td>\n",
       "      <td>580000</td>\n",
       "      <td>-290000</td>\n",
       "      <td>Risk Category 1</td>\n",
       "      <td>Paid</td>\n",
       "      <td>0</td>\n",
       "      <td>A</td>\n",
       "      <td>100.0</td>\n",
       "    </tr>\n",
       "    <tr>\n",
       "      <th>4</th>\n",
       "      <td>Order 5</td>\n",
       "      <td>6/10/2022</td>\n",
       "      <td>CUST-22100014</td>\n",
       "      <td>xYxUUY xYxHFxAQx</td>\n",
       "      <td>Package 60</td>\n",
       "      <td>Partial</td>\n",
       "      <td>Direct Debit BCA</td>\n",
       "      <td>Hore Promo 3</td>\n",
       "      <td>Recurring</td>\n",
       "      <td>19</td>\n",
       "      <td>...</td>\n",
       "      <td>25/06/2024</td>\n",
       "      <td>580,000</td>\n",
       "      <td>290000</td>\n",
       "      <td>580000</td>\n",
       "      <td>-290000</td>\n",
       "      <td>Risk Category 3</td>\n",
       "      <td>Paid</td>\n",
       "      <td>0</td>\n",
       "      <td>A</td>\n",
       "      <td>100.0</td>\n",
       "    </tr>\n",
       "  </tbody>\n",
       "</table>\n",
       "<p>5 rows × 23 columns</p>\n",
       "</div>"
      ],
      "text/plain": [
       "  Order ID Net Sales Date    Customer id     Customer Name  Price list   \n",
       "0  Order 1     12/04/2022  CUST-22040173    MxCHxXXU xUAxN  Package 36  \\\n",
       "1  Order 2     31/08/2023  CUST-23081581        QxH HxNGGx  Package 36   \n",
       "2  Order 3     30/03/2024  CUST-24031288   xNAxN XXAxPxAQx  Package 36   \n",
       "3  Order 4     12/04/2022  CUST-22040230    FxAQxH MxxUxNx  Package 60   \n",
       "4  Order 5      6/10/2022  CUST-22100014  xYxUUY xYxHFxAQx  Package 60   \n",
       "\n",
       "  Purchase Type Installment Payment Method Promotion Code Invoice Type   \n",
       "0       Partial                Credit Card   Hore Promo 1    Recurring  \\\n",
       "1       Partial                Credit Card   Hore Promo 2    Recurring   \n",
       "2       Partial           Direct Debit BCA   Hore Promo 3    Recurring   \n",
       "3       Partial                Credit Card   Hore Promo 4    Recurring   \n",
       "4       Partial           Direct Debit BCA   Hore Promo 3    Recurring   \n",
       "\n",
       "   Instalment Number  ... Payment Date  Payment Invoice Amount Total Payment   \n",
       "0                  9  ...    2/02/2023        0         430000        860000  \\\n",
       "1                  8  ...   25/05/2024        0         380000        760000   \n",
       "2                  1  ...   30/05/2024        0         300000        600000   \n",
       "3                  9  ...    2/02/2023        0         290000        580000   \n",
       "4                 19  ...   25/06/2024  580,000         290000        580000   \n",
       "\n",
       "  Outstanding             Risk  Invoice Status  Overdue Months   \n",
       "0     -430000  Risk Category 1            Paid               0  \\\n",
       "1     -380000   No Information            Paid               0   \n",
       "2     -300000  Risk Category 2            Paid               0   \n",
       "3     -290000  Risk Category 1            Paid               0   \n",
       "4     -290000  Risk Category 3            Paid               0   \n",
       "\n",
       "  Outstanding group Collection Rate  \n",
       "0                 A           100.0  \n",
       "1                 A           100.0  \n",
       "2                 A           100.0  \n",
       "3                 A           100.0  \n",
       "4                 A           100.0  \n",
       "\n",
       "[5 rows x 23 columns]"
      ]
     },
     "execution_count": 91,
     "metadata": {},
     "output_type": "execute_result"
    }
   ],
   "source": [
    "df4.head()"
   ]
  },
  {
   "cell_type": "code",
   "execution_count": 33,
   "metadata": {},
   "outputs": [
    {
     "name": "stdout",
     "output_type": "stream",
     "text": [
      "There are negative values in the 'Total Payment' column.\n",
      "There are no negative values in the 'Invoice Amount' column.\n"
     ]
    }
   ],
   "source": [
    "# Check for negative values in 'Total Payment' column\n",
    "if (df4['Total Payment'] < 0).any():\n",
    "    print(\"There are negative values in the 'Total Payment' column.\")\n",
    "else:\n",
    "    print(\"There are no negative values in the 'Total Payment' column.\")\n",
    "\n",
    "# Check for negative values in 'Invoice Amount' column\n",
    "if (df4['Invoice Amount'] < 0).any():\n",
    "    print(\"There are negative values in the 'Invoice Amount' column.\")\n",
    "else:\n",
    "    print(\"There are no negative values in the 'Invoice Amount' column.\")"
   ]
  },
  {
   "cell_type": "markdown",
   "metadata": {},
   "source": []
  },
  {
   "cell_type": "code",
   "execution_count": 62,
   "metadata": {},
   "outputs": [],
   "source": [
    "#df4_ca = df4[df4['Customer Name'] == 'CA. AxAxMx xNDxNxxX']"
   ]
  },
  {
   "cell_type": "code",
   "execution_count": 34,
   "metadata": {},
   "outputs": [],
   "source": [
    "#karena payment tidak mungkin negatif, maka drop rows yang negatif\n",
    "\n",
    "df4_clean = df4[df4['Total Payment'] >= 0]"
   ]
  },
  {
   "cell_type": "code",
   "execution_count": null,
   "metadata": {},
   "outputs": [],
   "source": []
  },
  {
   "cell_type": "code",
   "execution_count": 32,
   "metadata": {},
   "outputs": [
    {
     "name": "stdout",
     "output_type": "stream",
     "text": [
      "[ 1.00000000e+02  9.99999880e+01  9.98214286e+01  9.99854637e+01\n",
      "  9.75925926e+01  9.58333333e+01  9.62962963e+01  9.70588235e+01\n",
      "  9.40711462e+01  9.50000000e+01  9.81982308e+01  9.81982143e+01\n",
      "  8.88888889e+01  8.75000000e+01  8.70370370e+01  8.51851852e+01\n",
      "  9.81982041e+01  7.72727273e+01  9.63963846e+01  9.81981923e+01\n",
      "  8.22962963e+01  9.81405000e+01  8.57142857e+01  8.14814815e+01\n",
      "  9.09090909e+01  8.73877500e+01  9.63964286e+01  7.27272727e+01\n",
      "  7.93103448e+01  7.77777778e+01  7.58620690e+01  7.33333333e+01\n",
      "  2.53164557e+00  7.03703704e+01  6.66666667e+01  5.65656566e+01\n",
      "  6.25000000e+01  6.87500000e+01  6.55172414e+01  8.18181818e+01\n",
      "  9.27928571e+01  9.87387500e+01  9.27857143e+01  5.55555556e+01\n",
      "  5.86206897e+01  5.51724138e+01  7.50000000e+01  9.86486523e+01\n",
      "  4.81481481e+01  6.51162791e+01  4.79310345e+01  4.07407407e+01\n",
      "  5.42857143e+01  4.48275862e+01  5.00000000e+01  2.72727273e+01\n",
      "  4.16071429e+01  3.88888889e+01  2.50000000e+01  6.73076923e+01\n",
      "  3.70370370e+01  2.27272727e+01  8.73872143e+01  3.33333333e+01\n",
      "  4.37500000e+01  4.70588235e+01  9.30007308e+01  6.06060606e+00\n",
      "  5.05050505e+00  2.96296296e+01  1.36363636e+01  3.44827586e+01\n",
      "  2.08333333e+01  0.00000000e+00  4.28571429e+01  9.09090909e+00\n",
      "  2.59259259e+01  1.25000000e+01  5.62500000e+01  2.22222222e+01\n",
      "  3.43750000e+01  5.53191489e+01  9.19230769e+01  1.85185185e+01\n",
      "  2.41379310e+01  4.16666667e+00  1.48148148e+01  4.38095238e+01\n",
      "  1.11111111e+01  2.94117647e+01  3.14285714e+01  2.85714286e+01\n",
      "  7.40740741e+00  1.37931034e+01  1.66666667e+01  3.75000000e+01\n",
      "  7.90513834e-01  5.55555556e+00  3.70370370e+00  1.87500000e+01\n",
      "  1.81818750e+01  2.59259259e+00  1.85185185e+00  9.25925926e-01\n",
      "  3.28518519e-01  3.72093023e+01  1.56250000e+01  3.53514286e+01\n",
      "  4.13793103e+00  3.44827586e+00  1.76470588e+01  9.84843144e+01\n",
      "  4.96491228e+01  6.89655172e-01  9.37500000e+00  3.33333333e+00\n",
      "  6.25000000e+00  4.32164941e+01  2.71428571e+01  2.03125000e+00\n",
      "  2.38095238e+01  5.88235294e+00  5.71428571e+00  2.94117647e+00\n",
      "  2.30769231e+00  7.14285714e+00  5.00000000e-01  6.97674419e+00\n",
      "  8.33333333e+00  1.09090909e+01 -1.00000000e+02  9.54766312e+01\n",
      "  1.57894737e-03  4.60006295e+01  6.60002681e+01  9.16666667e+01\n",
      "  9.10000018e+01  7.56578947e+01  7.15170279e+01  6.86005556e+01\n",
      "  5.69541029e+01  5.59805424e+01  1.52069918e+01  1.44772118e+01]\n"
     ]
    }
   ],
   "source": [
    "nilai_unik = df4['Collection Rate'].unique()\n",
    "print(nilai_unik)"
   ]
  },
  {
   "cell_type": "code",
   "execution_count": 125,
   "metadata": {},
   "outputs": [
    {
     "name": "stdout",
     "output_type": "stream",
     "text": [
      "['Partial' 'Full']\n"
     ]
    }
   ],
   "source": [
    "nilai_unik = df4['Purchase Type'].unique()\n",
    "print(nilai_unik)"
   ]
  },
  {
   "cell_type": "code",
   "execution_count": 126,
   "metadata": {},
   "outputs": [
    {
     "name": "stdout",
     "output_type": "stream",
     "text": [
      "['Package 36' 'Package 60' 'Package 6' 'Membership' 'Product Only'\n",
      " 'Delivery Package 6-P' 'Delivery Package 6' 'After Service' 'Package 72'\n",
      " 'Membership Installment']\n"
     ]
    }
   ],
   "source": [
    "nilai_unik = df4['Price list'].unique()\n",
    "print(nilai_unik)"
   ]
  },
  {
   "cell_type": "code",
   "execution_count": 127,
   "metadata": {},
   "outputs": [
    {
     "name": "stdout",
     "output_type": "stream",
     "text": [
      "['Hore Promo 1' 'Hore Promo 2' 'Hore Promo 3' 'Hore Promo 4'\n",
      " 'Hore Promo 5' 'Hore Promo 6' 'Hore Promo 7' 'Hore Promo 8'\n",
      " 'Hore Promo 9' 'Hore Promo 10' 'Hore Promo 11' 'Hore Promo 12'\n",
      " 'Hore Promo 13' 'Hore Promo 14' 'Hore Promo 15' 'Hore Promo 16'\n",
      " 'Hore Promo 17' 'Hore Promo 18' 'Hore Promo 19' 'Hore Promo 20'\n",
      " 'Hore Promo 21' 'Hore Promo 22' 'Hore Promo 23' 'Hore Promo 24'\n",
      " 'Hore Promo 25' 'Hore Promo 26' 'Hore Promo 27' 'Hore Promo 28'\n",
      " 'Hore Promo 29' 'Hore Promo 30' 'Hore Promo 31' 'Hore Promo 32'\n",
      " 'Hore Promo 33' 'Hore Promo 34' 'Hore Promo 35' 'Hore Promo 36'\n",
      " 'Hore Promo 37' 'Hore Promo 38' 'Hore Promo 39' 'Hore Promo 40'\n",
      " 'Hore Promo 41' 'Hore Promo 42' 'Hore Promo 43' 'Hore Promo 44'\n",
      " 'Hore Promo 45' 'Hore Promo 46' 'Hore Promo 47' 'Hore Promo 48'\n",
      " 'Hore Promo 49' 'Hore Promo 50' 'Hore Promo 51' 'Hore Promo 52'\n",
      " 'Hore Promo 53' 'Hore Promo 54' 'Hore Promo 55' 'Hore Promo 56'\n",
      " 'Hore Promo 57' 'Hore Promo 58' 'Hore Promo 59' 'Hore Promo 60'\n",
      " 'Hore Promo 61' 'Hore Promo 62' 'Hore Promo 63' 'Hore Promo 64'\n",
      " 'Hore Promo 65' 'Hore Promo 66' 'Hore Promo 67' 'Hore Promo 68'\n",
      " 'Hore Promo 69' 'Hore Promo 70' 'Hore Promo 71' 'Hore Promo 72'\n",
      " 'Hore Promo 73' 'Hore Promo 74' 'Hore Promo 75' 'Hore Promo 76'\n",
      " 'Hore Promo 77' 'Hore Promo 78' 'Hore Promo 79' 'Hore Promo 80'\n",
      " 'Hore Promo 81' 'Hore Promo 82' nan '0']\n"
     ]
    }
   ],
   "source": [
    "nilai_unik = df4['Promotion Code'].unique()\n",
    "print(nilai_unik)"
   ]
  },
  {
   "cell_type": "code",
   "execution_count": 63,
   "metadata": {},
   "outputs": [],
   "source": [
    "file_path = 'C:\\data felicia\\Kuliah smtr 8\\coway\\data source\\data konsumen2.xlsx'\n",
    "df4_ca.to_excel(file_path, index=False)"
   ]
  },
  {
   "cell_type": "code",
   "execution_count": 92,
   "metadata": {},
   "outputs": [],
   "source": [
    "# export to csv\n",
    "\n",
    "file_path = 'C:\\\\data felicia\\\\Kuliah smtr 8\\\\coway\\\\data source\\\\hasil final3.csv'\n",
    "\n",
    "# Export the DataFrame to a CSV file\n",
    "df4.to_csv(file_path, index=False)"
   ]
  }
 ],
 "metadata": {
  "kernelspec": {
   "display_name": "Python 3",
   "language": "python",
   "name": "python3"
  },
  "language_info": {
   "codemirror_mode": {
    "name": "ipython",
    "version": 3
   },
   "file_extension": ".py",
   "mimetype": "text/x-python",
   "name": "python",
   "nbconvert_exporter": "python",
   "pygments_lexer": "ipython3",
   "version": "3.11.3"
  }
 },
 "nbformat": 4,
 "nbformat_minor": 2
}
